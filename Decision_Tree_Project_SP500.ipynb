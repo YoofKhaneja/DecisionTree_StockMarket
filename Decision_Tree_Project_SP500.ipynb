{
 "cells": [
  {
   "cell_type": "markdown",
   "metadata": {},
   "source": [
    "# Building a decision tree to predict stock flow"
   ]
  },
  {
   "cell_type": "raw",
   "metadata": {},
   "source": [
    "Step 1: Import the required libraries. \n",
    "        The libraries matplotlib, pandas, numpy, datetime and warnings are standard.\n",
    "        The library talib is a technical analysis library used in financial analysis."
   ]
  },
  {
   "cell_type": "code",
   "execution_count": null,
   "metadata": {},
   "outputs": [],
   "source": [
    "import matplotlib.pyplot as plt\n",
    "from datetime import datetime\n",
    "import pandas as pd\n",
    "import numpy as np\n",
    "import talib as ta\n",
    "import warnings\n",
    "warnings.filterwarnings('ignore')"
   ]
  },
  {
   "cell_type": "raw",
   "metadata": {},
   "source": [
    "Step 2: Read the stock data and prepare the data for analysis.\n",
    "        Remove the data with missing values (for simplicity). Data can be imputed as well.\n",
    "        Prepare the financial indicators from the given data."
   ]
  },
  {
   "cell_type": "code",
   "execution_count": null,
   "metadata": {
    "scrolled": true
   },
   "outputs": [],
   "source": [
    "df = pd.read_csv(\"all_stocks_5yr.csv\", delimiter = ',', index_col = 'date', parse_dates = True)\n",
    "df = df.loc[df['Name'] == 'AAPL']\n",
    "df['volume'] = df['volume'] / df['volume'].rolling(20).mean()\n",
    "df['range'] = (df['high'] - df['low']) / ta.ATR(df.high.values, df.low.values, df.close.values, 20)\n",
    "df['return'] = df.open.shift(-2) - df.open.shift(-1)\n",
    "df['EMA10'] = ta.EMA(df['close'].values, timeperiod = 10)\n",
    "df['EMA30'] = ta.EMA(df['close'].values, timeperiod = 30)\n",
    "df['ATR'] = ta.ATR(df['high'].values, df['low'].values, df['close'].values, timeperiod = 14)\n",
    "df['ADX'] = ta.ADX(df['high'].values, df['low'].values, df['close'].values, timeperiod = 14)\n",
    "df['RSI'] = ta.RSI(df['close'].values, timeperiod = 14)\n",
    "macd, macdsignal, macdhist = ta.MACD(df['close'].values, fastperiod = 12, slowperiod = 26, signalperiod = 9)\n",
    "df['MACD'] = macd\n",
    "df['MACDsignal'] = macdsignal\n",
    "df['ClgtEMA10'] = np.where(df['close'] > df['EMA10'], 1, -1)\n",
    "df['EMA10gtEMA30'] = np.where(df['EMA10'] > df['EMA30'], 1, -1)\n",
    "df['MACDSIGgtMACD'] = np.where(df['MACDsignal'] > df['MACD'], 1, -1)\n",
    "df['target_cls'] = np.where(df['return'] > 0, 1, 0)\n",
    "df['target_rgs'] = df['return']\n",
    "df.dropna(inplace = True)\n",
    "#df.drop(['Name'], axis = 1, inplace = True)\n",
    "print(df.head())"
   ]
  },
  {
   "cell_type": "raw",
   "metadata": {},
   "source": [
    "Step 3: Select the predictors to use for analysis.\n",
    "        Create the target variables fpr classification and regression."
   ]
  },
  {
   "cell_type": "code",
   "execution_count": null,
   "metadata": {},
   "outputs": [],
   "source": [
    "predictors = ['ATR', 'ADX','RSI', 'ClgtEMA10', 'EMA10gtEMA30', 'MACDSIGgtMACD']\n",
    "X = df[predictors]\n",
    "X.tail()"
   ]
  },
  {
   "cell_type": "code",
   "execution_count": null,
   "metadata": {},
   "outputs": [],
   "source": [
    "y_cls = df.target_cls\n",
    "y_rgs = df.target_rgs"
   ]
  },
  {
   "cell_type": "raw",
   "metadata": {},
   "source": [
    "Step 4: Split the data into test and train."
   ]
  },
  {
   "cell_type": "code",
   "execution_count": null,
   "metadata": {},
   "outputs": [],
   "source": [
    "from sklearn.model_selection import train_test_split\n",
    "X_cls_train, X_cls_test, y_cls_train, y_cls_test = train_test_split(X, y_cls, test_size = 0.25, random_state = 42, stratify = y_cls)\n",
    "print (X_cls_train.shape, y_cls_train.shape)\n",
    "print (X_cls_test.shape, y_cls_test.shape)"
   ]
  },
  {
   "cell_type": "code",
   "execution_count": null,
   "metadata": {},
   "outputs": [],
   "source": [
    "train_length = int(len(df)*0.75)\n",
    "X_rgs_train = X[:train_length]\n",
    "X_rgs_test = X[train_length:]\n",
    "y_rgs_train = y_rgs[:train_length]\n",
    "y_rgs_test = y_rgs[train_length:]\n",
    "\n",
    "print (X_rgs_train.shape, y_rgs_train.shape)\n",
    "print (X_rgs_test.shape, y_rgs_test.shape)"
   ]
  },
  {
   "cell_type": "raw",
   "metadata": {},
   "source": [
    "Step 5: Start on the decision tree. \n",
    "        Train the models and visualize the tree using the library graphviz."
   ]
  },
  {
   "cell_type": "markdown",
   "metadata": {},
   "source": [
    "## Classification"
   ]
  },
  {
   "cell_type": "code",
   "execution_count": null,
   "metadata": {},
   "outputs": [],
   "source": [
    "from sklearn.tree import DecisionTreeClassifier\n",
    "clf = DecisionTreeClassifier(criterion = 'entropy', max_depth = 3, min_samples_leaf = 6)\n",
    "clf"
   ]
  },
  {
   "cell_type": "code",
   "execution_count": null,
   "metadata": {
    "scrolled": true
   },
   "outputs": [],
   "source": [
    "clf = clf.fit(X_cls_train, y_cls_train)\n",
    "clf"
   ]
  },
  {
   "cell_type": "code",
   "execution_count": null,
   "metadata": {},
   "outputs": [],
   "source": [
    "from sklearn import tree\n",
    "import graphviz\n",
    "dot_data = tree.export_graphviz(clf, out_file=None,filled=True,feature_names=predictors)\n",
    "graphviz.Source(dot_data)"
   ]
  },
  {
   "cell_type": "raw",
   "metadata": {},
   "source": [
    "Step 6: Check the accuracy."
   ]
  },
  {
   "cell_type": "code",
   "execution_count": null,
   "metadata": {},
   "outputs": [],
   "source": [
    "y_cls_pred = clf.predict(X_cls_test)\n",
    "from sklearn.metrics import classification_report, accuracy_score\n",
    "report = classification_report(y_cls_test, y_cls_pred)\n",
    "print(report)\n",
    "print()\n",
    "print(accuracy_score(y_cls_test, y_cls_pred))"
   ]
  },
  {
   "cell_type": "markdown",
   "metadata": {},
   "source": [
    "## Regression"
   ]
  },
  {
   "cell_type": "code",
   "execution_count": null,
   "metadata": {},
   "outputs": [],
   "source": [
    "from sklearn.tree import DecisionTreeRegressor\n",
    "dtr = DecisionTreeRegressor(min_samples_leaf = 200)"
   ]
  },
  {
   "cell_type": "code",
   "execution_count": null,
   "metadata": {},
   "outputs": [],
   "source": [
    "dtr.fit(X_rgs_train, y_rgs_train)"
   ]
  },
  {
   "cell_type": "code",
   "execution_count": null,
   "metadata": {},
   "outputs": [],
   "source": [
    "dot_data = tree.export_graphviz(dtr, out_file = None, filled = True, feature_names=predictors)\n",
    "graphviz.Source(dot_data)"
   ]
  },
  {
   "cell_type": "code",
   "execution_count": null,
   "metadata": {},
   "outputs": [],
   "source": []
  }
 ],
 "metadata": {
  "kernelspec": {
   "display_name": "Python 3",
   "language": "python",
   "name": "python3"
  },
  "language_info": {
   "codemirror_mode": {
    "name": "ipython",
    "version": 3
   },
   "file_extension": ".py",
   "mimetype": "text/x-python",
   "name": "python",
   "nbconvert_exporter": "python",
   "pygments_lexer": "ipython3",
   "version": "3.6.7"
  }
 },
 "nbformat": 4,
 "nbformat_minor": 2
}
